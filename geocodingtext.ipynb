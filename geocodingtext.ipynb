{
 "cells": [
  {
   "cell_type": "markdown",
   "metadata": {},
   "source": [
    "### Mapping Locations in Poetry\n",
    "I went down a rabbit hole with this assignment. I assumed that there might be a library that would allow me to extract locations from text which I could then map.\n",
    "This proved to be a much more complex problem then I initially thought. SpaCy and the NLTK libraries are both capable of recognizing locations in text, but they were not able to contextualize the locations.\n",
    "\n",
    "For example, if I were to use the following text:\n",
    "> \"I went to a store in London and then went to Lake Erie to go fishing.\"\n",
    "\n",
    "SpaCy and NLTK would both recognize London as a location, but are not able to contextualize that information. While in the text London refers to a city in Ontario, Canada, SpaCy and NLTK would not be able to tell you that. Not without another layer of processing.\n",
    "\n",
    "I came across Mordecai, a project authored by MSU professor Andy Halterman. It uses SpaCy to extract locations and a database of locations to extract locations and their context from text.\n",
    "Documentation for the project can be found here: https://andrewhalterman.com/post/mordecai3/\n",
    "\n",
    "Process:\n",
    "1. Setup Mordecai\n",
    "    - initalize docker container for elastic search database with geonames gazetteer data\n",
    "2. Extract locations from text using Mordecai and save to a dataframe\n",
    "3. Export dataframe to csv\n",
    "4. Map locations using Plotly or Tableau\n"
   ]
  },
  {
   "cell_type": "code",
   "execution_count": 124,
   "metadata": {},
   "outputs": [],
   "source": [
    "from mordecai3 import Geoparser\n",
    "import pprint\n",
    "import pandas as pd\n",
    "\n",
    "# set up pretty printer\n",
    "pp = pprint.PrettyPrinter(indent=4)\n",
    "\n",
    "# set up geoparser\n",
    "geo = Geoparser()\n",
    "\n",
    "test_text = 'I went to the store in London and then went to Thames River to go fishing.'"
   ]
  },
  {
   "cell_type": "code",
   "execution_count": 125,
   "metadata": {},
   "outputs": [
    {
     "name": "stderr",
     "output_type": "stream",
     "text": [
      "2023-09-19 04:54:01,443 elasticsearch INFO     GET http://localhost:9200/ [status:200 request:0.022s]\n",
      "2023-09-19 04:54:01,518 elasticsearch INFO     POST http://localhost:9200/geonames/_search [status:200 request:0.074s]\n",
      "2023-09-19 04:54:01,539 elasticsearch INFO     POST http://localhost:9200/geonames/_search [status:200 request:0.010s]\n"
     ]
    },
    {
     "name": "stdout",
     "output_type": "stream",
     "text": [
      "{   'doc_text': 'I went to the store in London and then went to Thames River '\n",
      "                'to go fishing.',\n",
      "    'event_location_raw': '',\n",
      "    'geolocated_ents': [   {   'adm1_count': 1.0,\n",
      "                               'admin1_code': 'ENG',\n",
      "                               'admin1_name': 'England',\n",
      "                               'admin1_parent_match': 0,\n",
      "                               'admin2_code': 'GLA',\n",
      "                               'admin2_name': 'Greater London',\n",
      "                               'alt_name_length': 4.852030263919617,\n",
      "                               'ascii_dist': 0.0,\n",
      "                               'avg_dist': 0.09768606870229009,\n",
      "                               'city_id': '2643743',\n",
      "                               'city_name': 'London',\n",
      "                               'country_code3': 'GBR',\n",
      "                               'country_code_parent_match': 0,\n",
      "                               'country_count': 1.0,\n",
      "                               'end_char': 29,\n",
      "                               'feature_class': 'P',\n",
      "                               'feature_code': 'PPLC',\n",
      "                               'geonameid': '2643743',\n",
      "                               'lat': 51.50853,\n",
      "                               'lon': -0.12574,\n",
      "                               'max_dist': 0.17307692307692307,\n",
      "                               'min_dist': 0.0,\n",
      "                               'name': 'London',\n",
      "                               'score': 0.9995418787002563,\n",
      "                               'search_name': 'London',\n",
      "                               'start_char': 23},\n",
      "                           {   'adm1_count': 1.0,\n",
      "                               'admin1_code': '08',\n",
      "                               'admin1_name': 'Ontario',\n",
      "                               'admin1_parent_match': 0,\n",
      "                               'admin2_code': '',\n",
      "                               'admin2_name': '',\n",
      "                               'alt_name_length': 1.6094379124341003,\n",
      "                               'ascii_dist': 0.0,\n",
      "                               'avg_dist': 0.5894736842105263,\n",
      "                               'city_id': '',\n",
      "                               'city_name': '',\n",
      "                               'country_code3': 'CAN',\n",
      "                               'country_code_parent_match': 0,\n",
      "                               'country_count': 1.0,\n",
      "                               'end_char': 66,\n",
      "                               'feature_class': 'H',\n",
      "                               'feature_code': 'STM',\n",
      "                               'geonameid': '6163228',\n",
      "                               'lat': 42.31679,\n",
      "                               'lon': -82.44981,\n",
      "                               'max_dist': 0.42857142857142855,\n",
      "                               'min_dist': 0.0,\n",
      "                               'name': 'Thames River',\n",
      "                               'score': 0.9824198484420776,\n",
      "                               'search_name': 'Thames River',\n",
      "                               'start_char': 47}]}\n"
     ]
    }
   ],
   "source": [
    "output = geo.geoparse_doc(test_text)\n",
    "pp.pprint(output)\n",
    "# print(output['doc_text'], '\\nCity: ' + output['geolocated_ents'][0]['city_name'], '\\nCountry: ' + output['geolocated_ents'][0]['country_code3'], '\\nLatitude: ',output['geolocated_ents'][0]['lat'], '\\nLongitude: ', output['geolocated_ents'][0]['lon'])"
   ]
  },
  {
   "cell_type": "markdown",
   "metadata": {},
   "source": [
    "With the test text, Mordecai correctly extracts the location and context as well as the latitude and longitude.\n",
    "\n",
    "In the next step, we'll create a function to save the extracted locations to a dataframe."
   ]
  },
  {
   "cell_type": "code",
   "execution_count": 86,
   "metadata": {},
   "outputs": [],
   "source": [
    "df = pd.DataFrame(columns=['text', 'lat', 'lon', 'city', 'country', 'search'])\n",
    "def extract_locations(text):\n",
    "    output = geo.geoparse_doc(text)\n",
    "    doctext = output['doc_text']\n",
    "    locs = output['geolocated_ents']\n",
    "    for i in range(len(locs)):\n",
    "        pd.concat([df, pd.DataFrame([[doctext, locs[i]['lat'], locs[i]['lon'], locs[i]['city_name'], locs[i]['country_code3'], locs[i]['search_name']]], columns=['text', 'lat', 'lon', 'city', 'country', 'search'])])"
   ]
  },
  {
   "cell_type": "code",
   "execution_count": 71,
   "metadata": {},
   "outputs": [],
   "source": [
    "# read leavesofgrass.txt\n",
    "def read_text(text):\n",
    "    with open(text, 'r') as f:\n",
    "        text = f.read()\n",
    "        text = text.replace('\\n', ' ')\n",
    "        text = ' '.join(text.split())\n",
    "        return text\n"
   ]
  },
  {
   "cell_type": "code",
   "execution_count": 127,
   "metadata": {},
   "outputs": [],
   "source": [
    "first = read_text('1.txt')\n",
    "second = read_text('2.txt')\n",
    "third = read_text('3.txt')\n",
    "fourth = read_text('4.txt')\n",
    "fifth = read_text('5.txt')\n",
    "\n",
    "text = first"
   ]
  },
  {
   "cell_type": "code",
   "execution_count": 128,
   "metadata": {},
   "outputs": [
    {
     "name": "stderr",
     "output_type": "stream",
     "text": [
      "2023-09-19 05:32:31,675 elasticsearch INFO     POST http://localhost:9200/geonames/_search [status:200 request:0.079s]\n",
      "2023-09-19 05:32:31,736 elasticsearch INFO     POST http://localhost:9200/geonames/_search [status:200 request:0.055s]\n",
      "2023-09-19 05:32:31,777 elasticsearch INFO     POST http://localhost:9200/geonames/_search [status:200 request:0.028s]\n"
     ]
    },
    {
     "name": "stdout",
     "output_type": "stream",
     "text": [
      "[{'feature_code': 'PPLX', 'feature_class': 'P', 'country_code3': 'JAM', 'lat': 18.42818, 'lon': -77.20451, 'name': 'New England', 'admin1_code': '09', 'admin1_name': 'St Ann', 'admin2_code': '606', 'admin2_name': \"St. Ann's Bay\", 'geonameid': '12572068', 'admin1_parent_match': 0, 'country_code_parent_match': 0, 'alt_name_length': 0.6931471805599453, 'min_dist': 0.0, 'max_dist': 0.19642857142857142, 'avg_dist': 0.13414634146341464, 'ascii_dist': 0.0, 'adm1_count': 0.6666666666666666, 'country_count': 0.6666666666666666, 'score': 0.9986833930015564, 'search_name': 'New England', 'start_char': 2160, 'end_char': 2175, 'city_id': 'New England', 'city_name': '12572068'}, {'feature_code': 'PPL', 'feature_class': 'P', 'country_code3': 'USA', 'lat': 41.64366, 'lon': -83.48688, 'name': 'Oregon', 'admin1_code': 'OH', 'admin1_name': 'Ohio', 'admin2_code': '095', 'admin2_name': 'Lucas County', 'geonameid': '5165734', 'admin1_parent_match': 0, 'country_code_parent_match': 0, 'alt_name_length': 2.0794415416798357, 'min_dist': 0.0, 'max_dist': 0.18181818181818182, 'avg_dist': 0.11383928571428571, 'ascii_dist': 0.0, 'adm1_count': 1.0, 'country_count': 1.0, 'score': 0.833723247051239, 'search_name': 'Oregon', 'start_char': 2227, 'end_char': 2233, 'city_id': '5165734', 'city_name': 'Oregon'}, {'feature_code': 'PPLA2', 'feature_class': 'P', 'country_code3': 'GBR', 'lat': 51.86568, 'lon': -2.2431, 'name': 'Gloucester', 'admin1_code': 'ENG', 'admin1_name': 'England', 'admin2_code': 'E6', 'admin2_name': 'Gloucestershire', 'geonameid': '2648404', 'admin1_parent_match': 0, 'country_code_parent_match': 0, 'alt_name_length': 3.6375861597263857, 'min_dist': 0.0, 'max_dist': 0.18333333333333332, 'avg_dist': 0.16004296455424274, 'ascii_dist': 0.0, 'adm1_count': 0.6666666666666666, 'country_count': 0.6666666666666666, 'score': 0.9999996423721313, 'search_name': 'Gloucester', 'start_char': 2427, 'end_char': 2437, 'city_id': '2648404', 'city_name': 'Gloucester'}]\n"
     ]
    }
   ],
   "source": [
    "df = pd.DataFrame(columns=['text', 'lat', 'lon', 'city', 'country', 'search'])\n",
    "\n",
    "output = geo.geoparse_doc(text)\n",
    "doctext = output['doc_text']\n",
    "locs = output['geolocated_ents']\n",
    "print(locs)\n",
    "# for i in range(len(locs)):\n",
    "    # df = df.append(pd.DataFrame([[doctext, locs[i]['lat'], locs[i]['lon'], locs[i]['city_name'], locs[i]['country_code3'], locs[i]['search_name']]], columns=['text', 'lat', 'lon', 'city', 'country', 'search']))"
   ]
  },
  {
   "cell_type": "code",
   "execution_count": 112,
   "metadata": {},
   "outputs": [
    {
     "data": {
      "text/html": [
       "<div>\n",
       "<style scoped>\n",
       "    .dataframe tbody tr th:only-of-type {\n",
       "        vertical-align: middle;\n",
       "    }\n",
       "\n",
       "    .dataframe tbody tr th {\n",
       "        vertical-align: top;\n",
       "    }\n",
       "\n",
       "    .dataframe thead th {\n",
       "        text-align: right;\n",
       "    }\n",
       "</style>\n",
       "<table border=\"1\" class=\"dataframe\">\n",
       "  <thead>\n",
       "    <tr style=\"text-align: right;\">\n",
       "      <th></th>\n",
       "      <th>text</th>\n",
       "      <th>lat</th>\n",
       "      <th>lon</th>\n",
       "      <th>city</th>\n",
       "      <th>country</th>\n",
       "      <th>search</th>\n",
       "    </tr>\n",
       "  </thead>\n",
       "  <tbody>\n",
       "    <tr>\n",
       "      <th>0</th>\n",
       "      <td>Winter Solstice BY HILDA MORLEY A cold night c...</td>\n",
       "      <td>42.65258</td>\n",
       "      <td>-73.75623</td>\n",
       "      <td>Albany</td>\n",
       "      <td>USA</td>\n",
       "      <td>new york</td>\n",
       "    </tr>\n",
       "  </tbody>\n",
       "</table>\n",
       "</div>"
      ],
      "text/plain": [
       "                                                text       lat       lon  \\\n",
       "0  Winter Solstice BY HILDA MORLEY A cold night c...  42.65258 -73.75623   \n",
       "\n",
       "     city country    search  \n",
       "0  Albany     USA  new york  "
      ]
     },
     "execution_count": 112,
     "metadata": {},
     "output_type": "execute_result"
    }
   ],
   "source": [
    "df.head()"
   ]
  },
  {
   "cell_type": "code",
   "execution_count": 59,
   "metadata": {},
   "outputs": [
    {
     "name": "stderr",
     "output_type": "stream",
     "text": [
      "2023-09-19 03:13:44,918 elasticsearch INFO     POST http://localhost:9200/geonames/_search [status:200 request:0.075s]\n",
      "2023-09-19 03:13:44,978 elasticsearch INFO     POST http://localhost:9200/geonames/_search [status:200 request:0.046s]\n",
      "2023-09-19 03:13:45,029 elasticsearch INFO     POST http://localhost:9200/geonames/_search [status:200 request:0.039s]\n",
      "2023-09-19 03:13:45,045 elasticsearch INFO     POST http://localhost:9200/geonames/_search [status:200 request:0.005s]\n",
      "2023-09-19 03:13:45,127 elasticsearch INFO     POST http://localhost:9200/geonames/_search [status:200 request:0.082s]\n",
      "2023-09-19 03:13:45,164 elasticsearch INFO     POST http://localhost:9200/geonames/_search [status:200 request:0.007s]\n",
      "2023-09-19 03:13:45,202 elasticsearch INFO     POST http://localhost:9200/geonames/_search [status:200 request:0.038s]\n",
      "2023-09-19 03:13:45,252 elasticsearch INFO     POST http://localhost:9200/geonames/_search [status:200 request:0.038s]\n",
      "2023-09-19 03:13:45,317 elasticsearch INFO     POST http://localhost:9200/geonames/_search [status:200 request:0.053s]\n",
      "2023-09-19 03:13:45,373 elasticsearch INFO     POST http://localhost:9200/geonames/_search [status:200 request:0.039s]\n",
      "2023-09-19 03:13:45,424 elasticsearch INFO     POST http://localhost:9200/geonames/_search [status:200 request:0.038s]\n",
      "2023-09-19 03:13:45,473 elasticsearch INFO     POST http://localhost:9200/geonames/_search [status:200 request:0.038s]\n",
      "2023-09-19 03:13:45,531 elasticsearch INFO     POST http://localhost:9200/geonames/_search [status:200 request:0.042s]\n",
      "2023-09-19 03:13:45,549 elasticsearch INFO     POST http://localhost:9200/geonames/_search [status:200 request:0.003s]\n",
      "2023-09-19 03:13:45,553 elasticsearch INFO     POST http://localhost:9200/geonames/_search [status:200 request:0.003s]\n",
      "2023-09-19 03:13:45,574 elasticsearch INFO     POST http://localhost:9200/geonames/_search [status:200 request:0.020s]\n",
      "2023-09-19 03:13:45,600 elasticsearch INFO     POST http://localhost:9200/geonames/_search [status:200 request:0.020s]\n",
      "2023-09-19 03:13:45,623 elasticsearch INFO     POST http://localhost:9200/geonames/_search [status:200 request:0.019s]\n",
      "2023-09-19 03:13:45,673 elasticsearch INFO     POST http://localhost:9200/geonames/_search [status:200 request:0.041s]\n"
     ]
    }
   ],
   "source": [
    "df = extract_locations(third, df)"
   ]
  },
  {
   "cell_type": "code",
   "execution_count": 116,
   "metadata": {},
   "outputs": [
    {
     "data": {
      "text/html": [
       "<div>\n",
       "<style scoped>\n",
       "    .dataframe tbody tr th:only-of-type {\n",
       "        vertical-align: middle;\n",
       "    }\n",
       "\n",
       "    .dataframe tbody tr th {\n",
       "        vertical-align: top;\n",
       "    }\n",
       "\n",
       "    .dataframe thead th {\n",
       "        text-align: right;\n",
       "    }\n",
       "</style>\n",
       "<table border=\"1\" class=\"dataframe\">\n",
       "  <thead>\n",
       "    <tr style=\"text-align: right;\">\n",
       "      <th></th>\n",
       "      <th>text</th>\n",
       "      <th>lat</th>\n",
       "      <th>lon</th>\n",
       "      <th>city</th>\n",
       "      <th>country</th>\n",
       "      <th>search</th>\n",
       "    </tr>\n",
       "  </thead>\n",
       "  <tbody>\n",
       "  </tbody>\n",
       "</table>\n",
       "</div>"
      ],
      "text/plain": [
       "Empty DataFrame\n",
       "Columns: [text, lat, lon, city, country, search]\n",
       "Index: []"
      ]
     },
     "execution_count": 116,
     "metadata": {},
     "output_type": "execute_result"
    }
   ],
   "source": [
    "df.head()"
   ]
  },
  {
   "cell_type": "code",
   "execution_count": 119,
   "metadata": {},
   "outputs": [],
   "source": [
    "df.to_csv('black.csv')"
   ]
  }
 ],
 "metadata": {
  "kernelspec": {
   "display_name": ".venv",
   "language": "python",
   "name": "python3"
  },
  "language_info": {
   "codemirror_mode": {
    "name": "ipython",
    "version": 3
   },
   "file_extension": ".py",
   "mimetype": "text/x-python",
   "name": "python",
   "nbconvert_exporter": "python",
   "pygments_lexer": "ipython3",
   "version": "3.10.5"
  },
  "orig_nbformat": 4
 },
 "nbformat": 4,
 "nbformat_minor": 2
}
