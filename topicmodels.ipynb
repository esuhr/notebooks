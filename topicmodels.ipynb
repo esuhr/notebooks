{
 "cells": [
  {
   "cell_type": "markdown",
   "metadata": {},
   "source": [
    "Using Top2Vec to create models for each subreddit\n",
    "Models will be then loaded to be analyzed with visualization tools"
   ]
  },
  {
   "cell_type": "code",
   "execution_count": 1,
   "metadata": {},
   "outputs": [
    {
     "name": "stderr",
     "output_type": "stream",
     "text": [
      "/Users/gunn/repo/submodels/venv/lib/python3.10/site-packages/umap/distances.py:1063: NumbaDeprecationWarning: The 'nopython' keyword argument was not supplied to the 'numba.jit' decorator. The implicit default value for this argument is currently False, but it will be changed to True in Numba 0.59.0. See https://numba.readthedocs.io/en/stable/reference/deprecation.html#deprecation-of-object-mode-fall-back-behaviour-when-using-jit for details.\n",
      "  @numba.jit()\n",
      "/Users/gunn/repo/submodels/venv/lib/python3.10/site-packages/umap/distances.py:1071: NumbaDeprecationWarning: The 'nopython' keyword argument was not supplied to the 'numba.jit' decorator. The implicit default value for this argument is currently False, but it will be changed to True in Numba 0.59.0. See https://numba.readthedocs.io/en/stable/reference/deprecation.html#deprecation-of-object-mode-fall-back-behaviour-when-using-jit for details.\n",
      "  @numba.jit()\n",
      "/Users/gunn/repo/submodels/venv/lib/python3.10/site-packages/umap/distances.py:1086: NumbaDeprecationWarning: The 'nopython' keyword argument was not supplied to the 'numba.jit' decorator. The implicit default value for this argument is currently False, but it will be changed to True in Numba 0.59.0. See https://numba.readthedocs.io/en/stable/reference/deprecation.html#deprecation-of-object-mode-fall-back-behaviour-when-using-jit for details.\n",
      "  @numba.jit()\n",
      "/Users/gunn/repo/submodels/venv/lib/python3.10/site-packages/tqdm/auto.py:21: TqdmWarning: IProgress not found. Please update jupyter and ipywidgets. See https://ipywidgets.readthedocs.io/en/stable/user_install.html\n",
      "  from .autonotebook import tqdm as notebook_tqdm\n",
      "/Users/gunn/repo/submodels/venv/lib/python3.10/site-packages/umap/umap_.py:660: NumbaDeprecationWarning: The 'nopython' keyword argument was not supplied to the 'numba.jit' decorator. The implicit default value for this argument is currently False, but it will be changed to True in Numba 0.59.0. See https://numba.readthedocs.io/en/stable/reference/deprecation.html#deprecation-of-object-mode-fall-back-behaviour-when-using-jit for details.\n",
      "  @numba.jit()\n"
     ]
    }
   ],
   "source": [
    "import pandas as pd\n",
    "from top2vec import Top2Vec\n",
    "import tqdm as notebook_tqdm\n",
    "\n",
    "subreddits = ['eczema', 'acne', 'Fungalacne', 'SebDerm', 'SkincareAddiction']"
   ]
  },
  {
   "cell_type": "code",
   "execution_count": 2,
   "metadata": {},
   "outputs": [],
   "source": [
    "def zstd_to_df(name):\n",
    "    comments_filepath = f'originaldata/{name}_comments.zst'\n",
    "    submissions_filepath = f'originaldata/{name}_submissions.zst'\n",
    "\n",
    "    comments = pd.read_json(comments_filepath, compression=dict(method='zstd', max_window_size=2147483648), lines=True, nrows=200000)\n",
    "    submissions = pd.read_json(submissions_filepath, compression=dict(method='zstd', max_window_size=2147483648), lines=True, nrows=200000)\n",
    "\n",
    "    return comments, submissions\n",
    "\n",
    "def prepare_df(subreddit):\n",
    "    data = zstd_to_df(subreddit)\n",
    "    comments = data[0]\n",
    "    submissions = data[1]\n",
    "\n",
    "    sorted_comments = comments.sort_values(by=['score'], ascending=False)\n",
    "    sorted_submissions = submissions.sort_values(by=['score'], ascending=False)\n",
    "\n",
    "    # drop row if score is less than 3\n",
    "    sorted_comments = sorted_comments[sorted_comments['score'] >= 3]\n",
    "    sorted_submissions = sorted_submissions[sorted_submissions['score'] >= 3]\n",
    "\n",
    "    # extract body from comments\n",
    "    comments_body = sorted_comments['body'].to_list()\n",
    "\n",
    "    # extract title and selftext from submissions\n",
    "    submissions_title = sorted_submissions['title'].to_list()\n",
    "    submissions_selftext = sorted_submissions['selftext'].to_list()\n",
    "\n",
    "    # combine title and selftext\n",
    "    for each in submissions_selftext:\n",
    "        submissions_title.append(each)\n",
    "    \n",
    "    return comments_body, submissions_title"
   ]
  },
  {
   "cell_type": "code",
   "execution_count": 3,
   "metadata": {},
   "outputs": [],
   "source": [
    "def create_models(subreddit, comments, submissions):\n",
    "    commentsmodel = Top2Vec(documents=comments, speed=\"deep-learn\", ngram_vocab=True, workers=8)\n",
    "    commentsmodel.save(f\"{subreddit}_comments_model\")\n",
    "    print(f'{subreddit} comments model saved')\n",
    "    submodel = Top2Vec(documents=submissions, speed=\"deep-learn\", ngram_vocab=True, workers=8)\n",
    "    submodel.save(f\"{subreddit}_submissions_model\")\n",
    "    print(f'{subreddit} submissions model saved')"
   ]
  },
  {
   "cell_type": "code",
   "execution_count": null,
   "metadata": {},
   "outputs": [],
   "source": [
    "for subreddit in subreddits:\n",
    "    comments, submissions = prepare_df(subreddit)\n",
    "    print(f'{subreddit} data prepared')\n",
    "    create_models(subreddit, comments, submissions)"
   ]
  }
 ],
 "metadata": {
  "kernelspec": {
   "display_name": "venv",
   "language": "python",
   "name": "python3"
  },
  "language_info": {
   "codemirror_mode": {
    "name": "ipython",
    "version": 3
   },
   "file_extension": ".py",
   "mimetype": "text/x-python",
   "name": "python",
   "nbconvert_exporter": "python",
   "pygments_lexer": "ipython3",
   "version": "3.10.5"
  },
  "orig_nbformat": 4
 },
 "nbformat": 4,
 "nbformat_minor": 2
}
